{
 "cells": [
  {
   "cell_type": "markdown",
   "id": "b2b8867f",
   "metadata": {},
   "source": [
    "1. In the below elements which of them are values or an expression?\n",
    "ANS:\n",
    "Values: 'hello' , -87.8, 6\n",
    "Expressions: * , +, - , /\n"
   ]
  },
  {
   "cell_type": "code",
   "execution_count": null,
   "id": "86e727a1",
   "metadata": {},
   "outputs": [],
   "source": [
    "2. What is the difference between string and variable?\n",
    "ANS: A variable is basically the name of the location in the primary memory of your computer.A variable can store everything from strings to numbers. A string is the values inside the quotes assigned to a string."
   ]
  },
  {
   "cell_type": "markdown",
   "id": "34ba2181",
   "metadata": {},
   "source": [
    " 3. Describe three different data types.\n",
    "ANS:\n",
    "String\n",
    "In Python, Strings are arrays of bytes representing Unicode characters. A string is a collection of one or more characters put in a single quote or double-quote. In python there is no character data type, a character is a string of length one. It is represented by str class. \n",
    "List\n",
    "A list is a data structure in Python that is a mutable, or changeable, ordered sequence of elements. Each element or value that is inside of a list is called an item. Just as strings are defined as characters between quotes, lists are defined by having values between square brackets [ ].\n",
    "Tuple\n",
    "A Tuple is a collection of Python objects separated by commas. In someways a tuple is similar to a list in terms of indexing, nested objects and repetition but a tuple is immutable unlike lists which are mutable"
   ]
  },
  {
   "cell_type": "code",
   "execution_count": null,
   "id": "b5e391a1",
   "metadata": {},
   "outputs": [],
   "source": [
    "4. What is an expression made up of? What do all expressions do?\n",
    "ANS:\n",
    "An expression is a combination of values, variables, operators, and calls to functions. Expressions need to be evaluated. If you ask Python to print an expression, the interpreter evaluates the expression and displays the result.\n",
    "Expressions are representations of value. They are different from statement in the fact that statements do something while expressions are representation of value. For example any string is also an expressions since it represents the value of the string as well."
   ]
  },
  {
   "cell_type": "code",
   "execution_count": null,
   "id": "b5de71eb",
   "metadata": {},
   "outputs": [],
   "source": [
    "5. This assignment statements, like spam = 10. What is the difference between an\n",
    "expression and a statement?\n",
    "ANS:\n",
    "An expression evaluates to a value. A statement does something. Statements represent an action or command e.g print statements, assignment statements. Expression is a combination of variables, operations and values that yields a result value.    \n"
   ]
  },
  {
   "cell_type": "code",
   "execution_count": null,
   "id": "e72e6c23",
   "metadata": {},
   "outputs": [],
   "source": [
    "6. After running the following code, what does the variable bacon contain?\n",
    "bacon = 22\n",
    "bacon + 1\n",
    "ANS: 23\n",
    "    "
   ]
  },
  {
   "cell_type": "code",
   "execution_count": null,
   "id": "6fe8e3c4",
   "metadata": {},
   "outputs": [],
   "source": [
    "7. What should the values of the following two terms be?\n",
    "'spam' + 'spamspam'\n",
    "ans: 'spamspamspam'\n",
    "    'spam' * 3\n",
    "ans: 'spamspamspam'    "
   ]
  },
  {
   "cell_type": "code",
   "execution_count": null,
   "id": "31aa431e",
   "metadata": {},
   "outputs": [],
   "source": [
    "8. Why is eggs a valid variable name while 100 is invalid?\n",
    "ANS:\n",
    "A variable can contain both letters and numbers, but they cannot start with a number. Hence, eggs a valid variable name while 100 is invalid.    "
   ]
  },
  {
   "cell_type": "code",
   "execution_count": null,
   "id": "924a409e",
   "metadata": {},
   "outputs": [],
   "source": [
    "9. What three functions can be used to get the integer, floating-point number, or string\n",
    "version of a value?\n",
    "ANS:The int() , float() , and str( ) functions will evaluate to the integer, floating-point number, and string versions of the value passed to them.\n"
   ]
  },
  {
   "cell_type": "code",
   "execution_count": null,
   "id": "a8954fd5",
   "metadata": {},
   "outputs": [],
   "source": [
    "10. Why does this expression cause an error? How can you fix it?\n",
    "ANS: The erroe is caused because you can only concatenate str (not \"int\") to str. Hence, The error can be fixed by writing '99' like this.\n",
    "    'I have eaten' + ' 99 ' + 'burritos'\n",
    "    ans: 'I have eaten 99 burritos'"
   ]
  }
 ],
 "metadata": {
  "kernelspec": {
   "display_name": "Python 3",
   "language": "python",
   "name": "python3"
  },
  "language_info": {
   "codemirror_mode": {
    "name": "ipython",
    "version": 3
   },
   "file_extension": ".py",
   "mimetype": "text/x-python",
   "name": "python",
   "nbconvert_exporter": "python",
   "pygments_lexer": "ipython3",
   "version": "3.8.8"
  }
 },
 "nbformat": 4,
 "nbformat_minor": 5
}
