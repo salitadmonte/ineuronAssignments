{
 "cells": [
  {
   "cell_type": "markdown",
   "id": "e3e2bf50",
   "metadata": {},
   "source": [
    "1. Write a Python program to print \"Hello Python\"?\n",
    "2. Write a Python program to do arithmetical operations addition and division.?\n",
    "3. Write a Python program to find the area of a triangle?\n",
    "4. Write a Python program to swap two variables?\n",
    "5. Write a Python program to generate a random number"
   ]
  },
  {
   "cell_type": "code",
   "execution_count": 2,
   "id": "d5c89158",
   "metadata": {},
   "outputs": [
    {
     "name": "stdout",
     "output_type": "stream",
     "text": [
      "Hello Python\n"
     ]
    }
   ],
   "source": [
    "print(\"Hello Python\")"
   ]
  },
  {
   "cell_type": "code",
   "execution_count": 5,
   "id": "b7d23b52",
   "metadata": {},
   "outputs": [
    {
     "name": "stdout",
     "output_type": "stream",
     "text": [
      "123\n",
      "0.5769230769230769\n"
     ]
    }
   ],
   "source": [
    "x= 45\n",
    "y=78\n",
    "print(x+y)\n",
    "print(x/y)"
   ]
  },
  {
   "cell_type": "code",
   "execution_count": 7,
   "id": "ac52ac88",
   "metadata": {},
   "outputs": [
    {
     "name": "stdout",
     "output_type": "stream",
     "text": [
      "Enter the base value 32\n",
      "Enter the height value 40\n",
      "640.0\n"
     ]
    }
   ],
   "source": [
    "b = int(input(\"Enter the base value \"))\n",
    "h = int(input(\"Enter the height value \"))\n",
    "Area = b*h*0.5\n",
    "print(Area)"
   ]
  },
  {
   "cell_type": "code",
   "execution_count": 2,
   "id": "eb7b4b84",
   "metadata": {},
   "outputs": [
    {
     "name": "stdout",
     "output_type": "stream",
     "text": [
      "Enter the number a = 34\n",
      "Enter the number b = 9\n",
      "a = 9 b= 34\n"
     ]
    }
   ],
   "source": [
    "a = int(input(\"Enter the number a = \"))\n",
    "b = int(input(\"Enter the number b = \"))\n",
    "c=a\n",
    "a=b\n",
    "b=c\n",
    "print(\"a =\", a ,\"b=\",  b)\n"
   ]
  },
  {
   "cell_type": "code",
   "execution_count": 3,
   "id": "ac6ae91b",
   "metadata": {},
   "outputs": [
    {
     "name": "stdout",
     "output_type": "stream",
     "text": [
      "25\n"
     ]
    }
   ],
   "source": [
    "import random\n",
    "n = random.randint(0,100)\n",
    "print(n)"
   ]
  }
 ],
 "metadata": {
  "kernelspec": {
   "display_name": "Python 3",
   "language": "python",
   "name": "python3"
  },
  "language_info": {
   "codemirror_mode": {
    "name": "ipython",
    "version": 3
   },
   "file_extension": ".py",
   "mimetype": "text/x-python",
   "name": "python",
   "nbconvert_exporter": "python",
   "pygments_lexer": "ipython3",
   "version": "3.8.8"
  }
 },
 "nbformat": 4,
 "nbformat_minor": 5
}
