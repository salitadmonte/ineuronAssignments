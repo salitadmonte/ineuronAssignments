{
 "cells": [
  {
   "cell_type": "code",
   "execution_count": null,
   "id": "ea06aa12",
   "metadata": {},
   "outputs": [],
   "source": [
    "1.What are the two values of the Boolean data type? How do you write them?\n",
    "ANS:True and False are two values of boolean data type. We write them as True and False.\n"
   ]
  },
  {
   "cell_type": "code",
   "execution_count": null,
   "id": "2c2d7d52",
   "metadata": {},
   "outputs": [],
   "source": [
    "2. What are the three different types of Boolean operators?\n",
    "ANS: Three different types of boolean operators are AND , OR , NOT."
   ]
  },
  {
   "cell_type": "code",
   "execution_count": null,
   "id": "add6dd60",
   "metadata": {},
   "outputs": [],
   "source": [
    "3. Make a list of each Boolean operator truth tables (i.e. every possible combination of Boolean\n",
    "values for the operator and what it evaluate).\n",
    "ANS:    AND 1)True and True = True  2)True and False = False  3)False and True = False  4)False and False = False\n",
    "         OR 1) True or True = True  2) True or False = True    3) False or True = True      4) False or False = False\n",
    "         NOT 1)True = False 2) False = True"
   ]
  },
  {
   "cell_type": "code",
   "execution_count": null,
   "id": "9fd8f5db",
   "metadata": {},
   "outputs": [],
   "source": [
    "4. What are the values of the following expressions?\n",
    "i) (5 > 4) and (3 == 5): False\n",
    "ii) not (5 > 4): False\n",
    "iii) (5 >4) or (3 == 5): True\n",
    "iv) not ((5 > 4) or (3 == 5)):False\n",
    "v) (True and True) and (True == False):False\n",
    "vi) (not False) or (not True):True"
   ]
  },
  {
   "cell_type": "code",
   "execution_count": null,
   "id": "2d8bdc5f",
   "metadata": {},
   "outputs": [],
   "source": [
    "5. What are the six comparison operators?\n",
    "Ans: 1) == (equal) 2) != (not equal) 3) < (less than) 4) > (greater than) 5)<= (lesser than equal) 6) >= (greater than equal)"
   ]
  },
  {
   "cell_type": "code",
   "execution_count": null,
   "id": "0bd897d0",
   "metadata": {},
   "outputs": [],
   "source": [
    "6. How do you tell the difference between the equal to and assignment operators?Describe a\n",
    "condition and when you would use one?\n",
    "Ans:1)Equal to operator: Equal to operator is written as \"==\". The equal to operator checks whether the given two values\n",
    "    are equal or not . If they are equal it returns True and if they are not equal it returns False.It is used to compare\n",
    "    two values.eg. 5 == 5 this is True and it returns 1.\n",
    "    2)Assignment operator: Assignment operator is written as \"=\" . It assigns value to the variable. eg. a = 10."
   ]
  },
  {
   "cell_type": "code",
   "execution_count": null,
   "id": "59d61dff",
   "metadata": {},
   "outputs": [],
   "source": [
    "7. Identify the three blocks in this code:\n",
    "spam = 0\n",
    "if spam == 10:\n",
    "    print('eggs')\n",
    "if spam > 5:\n",
    "    print('bacon')\n",
    "else:\n",
    "    print('ham')\n",
    "    print('spam')\n",
    "    print(\"spam\")\n",
    "    \n",
    "ANS:if,if ,else this are the three blocks in the below code"
   ]
  },
  {
   "cell_type": "code",
   "execution_count": null,
   "id": "f38e0900",
   "metadata": {},
   "outputs": [],
   "source": [
    "8. Write code that prints Hello if 1 is stored in spam, prints Howdy if 2 is stored in spam, and prints\n",
    "Greetings! if anything else is stored in spam.\n",
    "ANS:\n",
    "    spam = 6\n",
    "if spam == 1:\n",
    "    print(\"Hello\")\n",
    "elif spam == 2:\n",
    "    print(\"Howdy\")\n",
    "else:\n",
    "    print(\"Greetings!\")\n"
   ]
  },
  {
   "cell_type": "code",
   "execution_count": null,
   "id": "c9cf657a",
   "metadata": {},
   "outputs": [],
   "source": [
    "9.If your programme is stuck in an endless loop, what keys you’ll press?\n",
    "ANS:If programme is stuck in an endless loop, press CTRL + C keys to get out of an endless loop."
   ]
  },
  {
   "cell_type": "code",
   "execution_count": null,
   "id": "9f08edb3",
   "metadata": {},
   "outputs": [],
   "source": [
    "10. How can you tell the difference between break and continue?\n",
    "ANS: Break - Break statement is used to stop the execution of remaining elements of the loop. \n",
    "It is used to exit or break the for and while loop in python.\n",
    "Continue - Continue statement does not print the current iteration of the loop.\n",
    "It will pass the control of the program to next iteration by skipping the current iteration."
   ]
  },
  {
   "cell_type": "code",
   "execution_count": null,
   "id": "a12159fe",
   "metadata": {},
   "outputs": [],
   "source": [
    "11. In a for loop, what is the difference between range(10), range(0, 10), and range(0, 10, 1)?\n",
    "ANS:In for loop, the output of range(10), range(0,10),range(0,10,1) are the same with no difference.\n",
    "    The output of this three function is 0-9. In range(10) it includes range of first 10 numbers (i.e from 0 to 9),\n",
    "    in range(0,10) it starts from first no. 0 to 9 it excludes last number. \n",
    "    In range(0,10,1) output is 0 to 9 and 1 is the step size."
   ]
  },
  {
   "cell_type": "code",
   "execution_count": null,
   "id": "6ab359ae",
   "metadata": {},
   "outputs": [],
   "source": [
    "12. Write a short program that prints the numbers 1 to 10 using a for loop. Then write an equivalent\n",
    "program that prints the numbers 1 to 10 using a while loop.\n",
    "ANS:i)#for loop\n",
    "for i in range(1,11):\n",
    "    print(i)\n",
    "    \n",
    "ii)#while loop\n",
    "i = 1\n",
    "while i < 11:\n",
    "    print(i)\n",
    "    i = i +1   \n",
    "        "
   ]
  },
  {
   "cell_type": "code",
   "execution_count": null,
   "id": "d6917fd9",
   "metadata": {},
   "outputs": [],
   "source": [
    "13. If you had a function named bacon() inside a module named spam, how would you call it after\n",
    "importing spam?\n",
    "ANS:After importing spam we can call this function as spam.bacon()"
   ]
  }
 ],
 "metadata": {
  "kernelspec": {
   "display_name": "Python 3",
   "language": "python",
   "name": "python3"
  },
  "language_info": {
   "codemirror_mode": {
    "name": "ipython",
    "version": 3
   },
   "file_extension": ".py",
   "mimetype": "text/x-python",
   "name": "python",
   "nbconvert_exporter": "python",
   "pygments_lexer": "ipython3",
   "version": "3.8.8"
  }
 },
 "nbformat": 4,
 "nbformat_minor": 5
}
