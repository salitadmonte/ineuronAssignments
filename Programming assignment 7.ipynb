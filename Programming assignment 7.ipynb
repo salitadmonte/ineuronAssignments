{
 "cells": [
  {
   "cell_type": "code",
   "execution_count": null,
   "id": "ac6d673a",
   "metadata": {},
   "outputs": [],
   "source": [
    "1. Write a Python Program to find sum of array?\n",
    "2. Write a Python Program to find largest element in an array?\n",
    "3. Write a Python Program for array rotation?\n",
    "4. Write a Python Program to Split the array and add the first part to the end?\n",
    "5. Write a Python Program to check if given array is Monotonic?"
   ]
  },
  {
   "cell_type": "code",
   "execution_count": 7,
   "id": "ad1dd9f7",
   "metadata": {},
   "outputs": [
    {
     "name": "stdout",
     "output_type": "stream",
     "text": [
      "Enter the number of elements in an array: 4\n",
      "Enter the element: 12\n",
      "Enter the element: 5\n",
      "Enter the element: 8\n",
      "Enter the element: 45\n",
      "[12, 5, 8, 45]\n",
      "4\n",
      "Sum of the array is  70\n"
     ]
    }
   ],
   "source": [
    "a= int(input(\"Enter the number of elements in an array: \"))\n",
    "arr=[]\n",
    "for i in range (1,a+1):\n",
    "    z=int(input(\"Enter the element: \"))\n",
    "    arr.append(z)\n",
    "print(arr)\n",
    "n=len(arr)\n",
    "print(n)\n",
    "ans = sum(arr)\n",
    "print ('Sum of the array is ',ans)"
   ]
  },
  {
   "cell_type": "code",
   "execution_count": 12,
   "id": "42621153",
   "metadata": {},
   "outputs": [
    {
     "name": "stdout",
     "output_type": "stream",
     "text": [
      "Enter the number of elements in an array: 4\n",
      "Enter the element: 67\n",
      "Enter the element: 9\n",
      "Enter the element: 6\n",
      "Enter the element: 90\n",
      "[67, 9, 6, 90]\n",
      "Largest in given array is 90\n"
     ]
    }
   ],
   "source": [
    "def largest(arr,a):\n",
    "    max = arr[0]\n",
    "    for i in range(1, a):\n",
    "        if arr[i] > max:\n",
    "            max = arr[i]\n",
    "    return max\n",
    "a= int(input(\"Enter the number of elements in an array: \"))\n",
    "arr=[]\n",
    "for i in range (1,a+1):\n",
    "    z=int(input(\"Enter the element: \"))\n",
    "    arr.append(z)\n",
    "print(arr)\n",
    "Ans = largest(arr,a)\n",
    "print (\"Largest in given array is\",Ans)"
   ]
  },
  {
   "cell_type": "code",
   "execution_count": 9,
   "id": "43987824",
   "metadata": {},
   "outputs": [
    {
     "name": "stdout",
     "output_type": "stream",
     "text": [
      "Enter the number of elements in an array: 5\n",
      "Enter the element: 1\n",
      "Enter the element: 2\n",
      "Enter the element: 3\n",
      "Enter the element: 4\n",
      "Enter the element: 5\n",
      "[1, 2, 3, 4, 5]\n",
      "Enter rotation count: 2\n",
      "Array after rotation: \n",
      "3 4 5 1 2 "
     ]
    }
   ],
   "source": [
    "def rotateArrayLeft(arr, R, a):\n",
    "    for i in range(R):\n",
    "        firstVal = arr[0]\n",
    "        for i in range(a-1):\n",
    "            arr[i] = arr[i+1]\n",
    "        arr[a-1] = firstVal\n",
    "a= int(input(\"Enter the number of elements in an array: \"))\n",
    "arr=[]\n",
    "for i in range (1,a+1):\n",
    "    z=int(input(\"Enter the element: \"))\n",
    "    arr.append(z)\n",
    "print(arr)\n",
    "R = int(input(\"Enter rotation count: \"))\n",
    "rotateArrayLeft(arr, R, a)\n",
    "print(\"Array after rotation: \")\n",
    "for i in range(a):\n",
    "    print (arr[i],end=\" \")"
   ]
  },
  {
   "cell_type": "code",
   "execution_count": 4,
   "id": "427f735e",
   "metadata": {},
   "outputs": [
    {
     "name": "stdout",
     "output_type": "stream",
     "text": [
      "Enter the number of elements in an array: 5\n",
      "Enter the element: 67\n",
      "Enter the element: 89\n",
      "Enter the element: 54\n",
      "Enter the element: 34\n",
      "Enter the element: 55\n",
      "[67, 89, 54, 34, 55]\n",
      "34 55 67 89 54 "
     ]
    }
   ],
   "source": [
    "def splitArr(arr, a, k): \n",
    "    for i in range(0, k): \n",
    "        x = arr[0]\n",
    "        for j in range(0, a-1):\n",
    "            arr[j] = arr[j + 1]\n",
    "        arr[a-1] = x\n",
    "a= int(input(\"Enter the number of elements in an array: \"))\n",
    "arr=[]\n",
    "for i in range (1,a+1):\n",
    "    z=int(input(\"Enter the element: \"))\n",
    "    arr.append(z)\n",
    "print(arr)\n",
    "k= 3\n",
    "  \n",
    "splitArr(arr, a, k)\n",
    "  \n",
    "for i in range(0, a): \n",
    "    print(arr[i], end = ' ')"
   ]
  },
  {
   "cell_type": "code",
   "execution_count": 6,
   "id": "edf93fc5",
   "metadata": {},
   "outputs": [
    {
     "name": "stdout",
     "output_type": "stream",
     "text": [
      "Enter the number of elements in an array: 5\n",
      "Enter the element: 6\n",
      "Enter the element: 8\n",
      "Enter the element: 45\n",
      "Enter the element: 78\n",
      "Enter the element: 89\n",
      "[6, 8, 45, 78, 89]\n",
      "Input array is Monotonic increasing\n"
     ]
    }
   ],
   "source": [
    "def is_Monotonic(A):\n",
    "    if all(A[i] <= A[i+1] for i in range (len(A)-1)):\n",
    "        return \"Monotonic increasing\"\n",
    "    elif all(A[i] >= A[i+1] for i in range (len(A)-1)):\n",
    "        return \"Monotonic decreasing\"\n",
    "    return \"not Monotonic array\"\n",
    "a= int(input(\"Enter the number of elements in an array: \"))\n",
    "arr=[]\n",
    "for i in range (1,a+1):\n",
    "    z=int(input(\"Enter the element: \"))\n",
    "    arr.append(z)\n",
    "print(arr)\n",
    "print(\"Input array is \"+is_Monotonic(arr))"
   ]
  }
 ],
 "metadata": {
  "kernelspec": {
   "display_name": "Python 3",
   "language": "python",
   "name": "python3"
  },
  "language_info": {
   "codemirror_mode": {
    "name": "ipython",
    "version": 3
   },
   "file_extension": ".py",
   "mimetype": "text/x-python",
   "name": "python",
   "nbconvert_exporter": "python",
   "pygments_lexer": "ipython3",
   "version": "3.8.8"
  }
 },
 "nbformat": 4,
 "nbformat_minor": 5
}
