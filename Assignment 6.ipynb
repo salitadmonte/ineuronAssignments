{
 "cells": [
  {
   "cell_type": "markdown",
   "id": "b3315faf",
   "metadata": {},
   "source": [
    "1. What are escape characters, and how do you use them?\n",
    "ANS:An escape character lets you use characters that are otherwise impossible to put into a string.\n",
    "We use them by adding a backslash (\\) followed by the character you want to add to the string."
   ]
  },
  {
   "cell_type": "markdown",
   "id": "25f6f47e",
   "metadata": {},
   "source": [
    "2. What do the escape characters n and t stand for?\n",
    "Ans: The escape characters n and t stand for newline and tab.\n",
    "\\t:Tab\n",
    "\\n: Newline (line break)"
   ]
  },
  {
   "cell_type": "markdown",
   "id": "5060da2c",
   "metadata": {},
   "source": [
    "3. What is the way to include backslash characters in a string?\n",
    "Ans:To put a backslash into a string, we need to code two backslashes.\\\\: Backslash (\\)"
   ]
  },
  {
   "cell_type": "markdown",
   "id": "5e7f2a63",
   "metadata": {},
   "source": [
    "4. The string \"Howl's Moving Castle\" is a correct value. Why isn't the single quote character in the\n",
    "word Howl's not escaped a problem?\n",
    "Ans:Since the string begins with a double quote, Python knows that the single quote is part of the string and not marking the end of the string."
   ]
  },
  {
   "cell_type": "markdown",
   "id": "bd8c839d",
   "metadata": {},
   "source": [
    "5. How do you write a string of newlines if you don't want to use the n character?\n",
    "Ans: Python print statement prints all the statements by default in a new line. we can also triple-quote the string."
   ]
  },
  {
   "cell_type": "code",
   "execution_count": null,
   "id": "f7a29b4e",
   "metadata": {},
   "outputs": [],
   "source": [
    "6. What are the values of the given expressions?\n",
    "'Hello,world!'[1]    :  'e' \n",
    "'Hello,world!'[0:5]  :  'Hello'\n",
    "'Hello,world!'[:5]   :  'Hello'\n",
    "'Hello,world!'[3:]   :  'lo,world!'\n"
   ]
  },
  {
   "cell_type": "code",
   "execution_count": 9,
   "id": "d8090340",
   "metadata": {},
   "outputs": [
    {
     "name": "stdout",
     "output_type": "stream",
     "text": [
      "Object `expressions` not found.\n"
     ]
    }
   ],
   "source": [
    "7. What are the values of the following expressions?\n",
    "\"Hello\".upper()            :  'HELLO'\n",
    "\"Hello\".upper().isupper()  :   True\n",
    "\"Hello\".upper().lower()    :  'hello'"
   ]
  },
  {
   "cell_type": "code",
   "execution_count": null,
   "id": "037bd736",
   "metadata": {},
   "outputs": [],
   "source": [
    "8. What are the values of the following expressions?\n",
    "\"Remember, remember, the fifth of July.\".split() : ['Remember,', 'remember,', 'the', 'fifth', 'of', 'July.']\n",
    "'-'.join('There can only one.'.split())          : 'There-can-only-one.'\n"
   ]
  },
  {
   "cell_type": "code",
   "execution_count": null,
   "id": "9b0ff13a",
   "metadata": {},
   "outputs": [],
   "source": [
    "9. What are the methods for right-justifying, left-justifying, and centering a string?\n",
    "Ans:The methods for right-justifying, left-justifying, and centering a string rjust(), ljust(), center().\n",
    "str.ljust(s, width[, fillchar])\n",
    "str.rjust(s, width[, fillchar])\n",
    "str.center(s, width[, fillchar])"
   ]
  },
  {
   "cell_type": "markdown",
   "id": "9299a38b",
   "metadata": {},
   "source": [
    "10. What is the best way to remove whitespace characters from the start or end?\n",
    "Ans: Use lstrip to remove whitespace from the beginning of the string, and rstrip tomremove whitespace from the end of the\n",
    "string."
   ]
  }
 ],
 "metadata": {
  "kernelspec": {
   "display_name": "Python 3",
   "language": "python",
   "name": "python3"
  },
  "language_info": {
   "codemirror_mode": {
    "name": "ipython",
    "version": 3
   },
   "file_extension": ".py",
   "mimetype": "text/x-python",
   "name": "python",
   "nbconvert_exporter": "python",
   "pygments_lexer": "ipython3",
   "version": "3.8.8"
  }
 },
 "nbformat": 4,
 "nbformat_minor": 5
}
