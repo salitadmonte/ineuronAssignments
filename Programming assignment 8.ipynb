{
 "cells": [
  {
   "cell_type": "code",
   "execution_count": null,
   "id": "2995641d",
   "metadata": {},
   "outputs": [],
   "source": [
    "1. Write a Python Program to Add Two Matrices?\n",
    "2. Write a Python Program to Multiply Two Matrices?\n",
    "3. Write a Python Program to Transpose a Matrix?\n",
    "4. Write a Python Program to Sort Words in Alphabetic Order?\n",
    "5. Write a Python Program to Remove Punctuation From a String?"
   ]
  },
  {
   "cell_type": "code",
   "execution_count": 3,
   "id": "a28cfc52",
   "metadata": {},
   "outputs": [
    {
     "name": "stdout",
     "output_type": "stream",
     "text": [
      "Enter the Number of rows : 2\n",
      "Enter the Number of Columns: 2\n",
      "Enter the elements of First Matrix:\n",
      "56\n",
      "87\n",
      "3\n",
      "6\n",
      "First Matrix is: \n",
      "[4, 2]\n",
      "[4, 2]\n",
      "Enter the elements of Second Matrix:\n",
      "6\n",
      "9\n",
      "43\n",
      "62\n",
      "Second matrix is: \n",
      "[6, 9]\n",
      "[43, 62]\n",
      "The Sum of Above two Matrices is : \n",
      "[62, 96]\n",
      "[46, 68]\n"
     ]
    }
   ],
   "source": [
    "rows = int(input(\"Enter the Number of rows : \" ))\n",
    "column = int(input(\"Enter the Number of Columns: \"))\n",
    "\n",
    "print(\"Enter the elements of First Matrix:\")\n",
    "matrix_a= [[int(input()) for i in range(column)] for i in range(rows)]\n",
    "print(\"First Matrix is: \")\n",
    "for i in matrix_a:\n",
    "    print(n)\n",
    "\n",
    "print(\"Enter the elements of Second Matrix:\")\n",
    "matrix_b= [[int(input()) for i in range(column)] for i in range(rows)]\n",
    "print(\"Second matrix is: \")\n",
    "for n in matrix_b:\n",
    "    print(n)\n",
    "    \n",
    "result=[[0 for i in range(column)] for i in range(rows)]\n",
    "\n",
    "for i in range(rows):\n",
    "    for j in range(column):\n",
    "        result[i][j] = matrix_a[i][j]+matrix_b[i][j]\n",
    "\n",
    "print(\"The Sum of Above two Matrices is : \")\n",
    "for r in result:\n",
    "    print(r)"
   ]
  },
  {
   "cell_type": "code",
   "execution_count": 2,
   "id": "6990c7f8",
   "metadata": {},
   "outputs": [
    {
     "name": "stdout",
     "output_type": "stream",
     "text": [
      "Enter the Number of rows : 3\n",
      "Enter the Number of Columns: 3\n",
      "Enter the elements of First Matrix:\n",
      "4445\n",
      "1\n",
      "25\n",
      "1\n",
      "3\n",
      "7\n",
      "6\n",
      "8\n",
      "99\n",
      "First Matrix is: \n",
      "[4445, 1, 25]\n",
      "[1, 3, 7]\n",
      "[6, 8, 99]\n",
      "Enter the elements of Second Matrix:\n",
      "65\n",
      "1\n",
      "2\n",
      "4\n",
      "8\n",
      "7\n",
      "9\n",
      "47\n",
      "3\n",
      "Second matrix is: \n",
      "[65, 1, 2]\n",
      "[4, 8, 7]\n",
      "[9, 47, 3]\n",
      "\n",
      "Matrix_a X Matrix_b is: \n",
      "[289154, 5628, 8972]\n",
      "[140, 354, 44]\n",
      "[1313, 4723, 365]\n"
     ]
    }
   ],
   "source": [
    "rows = int(input(\"Enter the Number of rows : \" ))\n",
    "column = int(input(\"Enter the Number of Columns: \"))\n",
    "\n",
    "print(\"Enter the elements of First Matrix:\")\n",
    "matrix_a= [[int(input()) for i in range(column)] for i in range(rows)]\n",
    "print(\"First Matrix is: \")\n",
    "for i in matrix_a:\n",
    "    print(i)\n",
    "\n",
    "print(\"Enter the elements of Second Matrix:\")\n",
    "matrix_b= [[int(input()) for i in range(column)] for i in range(rows)]\n",
    "print(\"Second matrix is: \")\n",
    "for n in matrix_b:\n",
    "    print(n)\n",
    "    \n",
    "result=[[0 for i in range(column)] for i in range(rows)]\n",
    "for i in range(len(matrix_a)):\n",
    "    for j in range(len(matrix_b[0])):\n",
    "        for k in range(len(matrix_b)):\n",
    "            result [i][j]+=matrix_a[i][k]*matrix_b[k][j]\n",
    "print(\"\\nMatrix_a X Matrix_b is: \")\n",
    "for r in result:\n",
    "    print(r)"
   ]
  },
  {
   "cell_type": "code",
   "execution_count": 11,
   "id": "5b814aa6",
   "metadata": {},
   "outputs": [
    {
     "name": "stdout",
     "output_type": "stream",
     "text": [
      "Enter the Number of rows : 2\n",
      "Enter the Number of Columns: 3\n",
      "Enter the elements of First Matrix:\n",
      "3\n",
      "4\n",
      "5\n",
      "6\n",
      "7\n",
      "8\n",
      "First Matrix is: \n",
      "[3, 4, 5]\n",
      "[6, 7, 8]\n",
      "Transpose of the matrix is: \n",
      "[3, 6]\n",
      "[4, 7]\n",
      "[5, 8]\n"
     ]
    }
   ],
   "source": [
    "rows = int(input(\"Enter the Number of rows : \" ))\n",
    "column = int(input(\"Enter the Number of Columns: \"))\n",
    "\n",
    "print(\"Enter the elements of First Matrix:\")\n",
    "matrix_a= [[int(input()) for i in range(column)] for i in range(rows)]\n",
    "print(\"First Matrix is: \")\n",
    "for i in matrix_a:\n",
    "    print(i)\n",
    "\n",
    "result=[[0 for i in range(rows)] for i in range(column)]\n",
    "# iterate through rows\n",
    "for i in range(len(matrix_a)):\n",
    "   # iterate through columns\n",
    "   for j in range(len(matrix_a[0])):\n",
    "        result[j][i] = matrix_a[i][j]\n",
    "print(\"Transpose of the matrix is: \")\n",
    "for r in result:\n",
    "    print(r)"
   ]
  },
  {
   "cell_type": "code",
   "execution_count": 21,
   "id": "8a848e75",
   "metadata": {},
   "outputs": [
    {
     "name": "stdout",
     "output_type": "stream",
     "text": [
      "Enter a string: This is a beautiful day because we won gold at the olympics.\n",
      "The sorted words are:\n",
      "a\n",
      "at\n",
      "beautiful\n",
      "because\n",
      "day\n",
      "gold\n",
      "is\n",
      "olympics.\n",
      "the\n",
      "this\n",
      "we\n",
      "won\n"
     ]
    }
   ],
   "source": [
    "str = input(\"Enter a string: \")\n",
    "z=str.lower()\n",
    "words = z.split()\n",
    "words.sort()\n",
    "print(\"The sorted words are:\")\n",
    "for word in words:\n",
    "    print(word)\n",
    "\n"
   ]
  },
  {
   "cell_type": "code",
   "execution_count": 22,
   "id": "567fb238",
   "metadata": {},
   "outputs": [
    {
     "name": "stdout",
     "output_type": "stream",
     "text": [
      "Enter string: The day is ##cold {of course} from&@@@ the snow ?falling??\"\":\n",
      "The day is cold of course from the snow falling\n"
     ]
    }
   ],
   "source": [
    "punctuation = '''`~!@#$%^&*(){}[];:'\".,/?''' \n",
    "input_str = input(\"Enter string: \") \n",
    "new_str = input_str\n",
    "for i in input_str: \n",
    "    if i in punctuation: \n",
    "        new_str = new_str.replace(i,\"\") \n",
    "print(new_str)"
   ]
  }
 ],
 "metadata": {
  "kernelspec": {
   "display_name": "Python 3",
   "language": "python",
   "name": "python3"
  },
  "language_info": {
   "codemirror_mode": {
    "name": "ipython",
    "version": 3
   },
   "file_extension": ".py",
   "mimetype": "text/x-python",
   "name": "python",
   "nbconvert_exporter": "python",
   "pygments_lexer": "ipython3",
   "version": "3.8.8"
  }
 },
 "nbformat": 4,
 "nbformat_minor": 5
}
