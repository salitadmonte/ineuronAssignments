{
 "cells": [
  {
   "cell_type": "code",
   "execution_count": null,
   "id": "72db6eb2",
   "metadata": {},
   "outputs": [],
   "source": [
    "1. Write a Python program to convert kilometers to miles?\n",
    "2. Write a Python program to convert Celsius to Fahrenheit?\n",
    "3. Write a Python program to display calendar?\n",
    "4. Write a Python program to solve quadratic equation?\n",
    "5. Write a Python program to swap two variables without temp variable?"
   ]
  },
  {
   "cell_type": "code",
   "execution_count": 2,
   "id": "aab10cd0",
   "metadata": {},
   "outputs": [
    {
     "name": "stdout",
     "output_type": "stream",
     "text": [
      "Enter the value in Kilometers: 43\n",
      "Km to miles is  26.718953\n"
     ]
    }
   ],
   "source": [
    "Kilometers = float(input(\"Enter the value in Kilometers: \"))\n",
    "miles = Kilometers * 0.621371\n",
    "print(\"Km to miles is \", miles)"
   ]
  },
  {
   "cell_type": "code",
   "execution_count": 5,
   "id": "8a15809b",
   "metadata": {},
   "outputs": [
    {
     "name": "stdout",
     "output_type": "stream",
     "text": [
      " Enter the value in Celsius: 6\n",
      " Celsius to Fahrenheit is  42.8\n"
     ]
    }
   ],
   "source": [
    "Celsius = float(input(\" Enter the value in Celsius: \"))\n",
    "Fahrenheit= Celsius*1.8 + 32\n",
    "print(\" Celsius to Fahrenheit is \", Fahrenheit)"
   ]
  },
  {
   "cell_type": "code",
   "execution_count": 6,
   "id": "f4e1c08f",
   "metadata": {},
   "outputs": [
    {
     "name": "stdout",
     "output_type": "stream",
     "text": [
      "Enter year: 2020\n",
      "Enter month: 8\n",
      "    August 2020\n",
      "Mo Tu We Th Fr Sa Su\n",
      "                1  2\n",
      " 3  4  5  6  7  8  9\n",
      "10 11 12 13 14 15 16\n",
      "17 18 19 20 21 22 23\n",
      "24 25 26 27 28 29 30\n",
      "31\n",
      "\n"
     ]
    }
   ],
   "source": [
    "import calendar\n",
    "yy = int(input(\"Enter year: \"))\n",
    "mm = int(input(\"Enter month: \"))\n",
    "print(calendar.month(yy, mm))"
   ]
  },
  {
   "cell_type": "code",
   "execution_count": 6,
   "id": "da11b524",
   "metadata": {},
   "outputs": [
    {
     "name": "stdout",
     "output_type": "stream",
     "text": [
      "Enter a: 1\n",
      "Enter b: -7\n",
      "Enter c: -3\n",
      "The solution is (-0.405124837953327+0j) (7.405124837953327+0j)\n"
     ]
    }
   ],
   "source": [
    "import cmath  \n",
    "a = float(input('Enter a: '))  \n",
    "b = float(input('Enter b: '))  \n",
    "c = float(input('Enter c: '))  \n",
    "d = (b**2) - (4*a*c)  \n",
    "  \n",
    "ans1 = (-b-cmath.sqrt(d))/(2*a)  \n",
    "ans2 = (-b+cmath.sqrt(d))/(2*a)  \n",
    "print('The solution is' , ans1, ans2)   "
   ]
  },
  {
   "cell_type": "code",
   "execution_count": 7,
   "id": "7f4a5e53",
   "metadata": {},
   "outputs": [
    {
     "name": "stdout",
     "output_type": "stream",
     "text": [
      "Enter value of x: 10\n",
      "Enter value of y: 5\n",
      "After swapping: \n",
      "Value of x :  5  and y :  10\n"
     ]
    }
   ],
   "source": [
    "x = int(input(\"Enter value of x: \"))\n",
    "y = int(input(\"Enter value of y: \"))\n",
    "x, y = y, x\n",
    "print (\"After swapping: \")\n",
    "print(\"Value of x : \", x, \" and y : \", y)"
   ]
  }
 ],
 "metadata": {
  "kernelspec": {
   "display_name": "Python 3",
   "language": "python",
   "name": "python3"
  },
  "language_info": {
   "codemirror_mode": {
    "name": "ipython",
    "version": 3
   },
   "file_extension": ".py",
   "mimetype": "text/x-python",
   "name": "python",
   "nbconvert_exporter": "python",
   "pygments_lexer": "ipython3",
   "version": "3.8.8"
  }
 },
 "nbformat": 4,
 "nbformat_minor": 5
}
